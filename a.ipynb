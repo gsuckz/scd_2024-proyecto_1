{
 "cells": [
  {
   "cell_type": "code",
   "execution_count": 59,
   "metadata": {},
   "outputs": [],
   "source": [
    "def generar_tablas(archivo):\n",
    "    tabla = {}\n",
    "    with open(archivo , 'r', encoding='utf-8') as archivo:\n",
    "        while True:\n",
    "            simbolo_leido = archivo.read(1)\n",
    "            if not simbolo_leido:\n",
    "                break\n",
    "            if simbolo_leido in tabla:\n",
    "                tabla[simbolo_leido] += 1\n",
    "            else:\n",
    "                tabla[simbolo_leido] = 1\n",
    "    return tabla"
   ]
  },
  {
   "cell_type": "code",
   "execution_count": 110,
   "metadata": {},
   "outputs": [],
   "source": [
    "import random\n",
    "\n",
    "def generar_fuente(tabla):\n",
    "    elementos = list(tabla.keys())\n",
    "    pesos = list(tabla.values())\n",
    "    def fuente(k=1):\n",
    "        return ''.join(random.choices(elementos, weights=pesos, k=k))\n",
    "    return fuente\n"
   ]
  },
  {
   "cell_type": "code",
   "execution_count": 111,
   "metadata": {},
   "outputs": [],
   "source": [
    "f1=generar_fuente(generar_tablas(\"Informe.md\"))"
   ]
  },
  {
   "cell_type": "code",
   "execution_count": null,
   "metadata": {},
   "outputs": [],
   "source": []
  },
  {
   "cell_type": "code",
   "execution_count": null,
   "metadata": {},
   "outputs": [],
   "source": []
  }
 ],
 "metadata": {
  "kernelspec": {
   "display_name": "Python 3",
   "language": "python",
   "name": "python3"
  },
  "language_info": {
   "codemirror_mode": {
    "name": "ipython",
    "version": 3
   },
   "file_extension": ".py",
   "mimetype": "text/x-python",
   "name": "python",
   "nbconvert_exporter": "python",
   "pygments_lexer": "ipython3",
   "version": "3.12.5"
  }
 },
 "nbformat": 4,
 "nbformat_minor": 2
}
