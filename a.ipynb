{
 "cells": [
  {
   "cell_type": "code",
   "execution_count": 38,
   "metadata": {},
   "outputs": [],
   "source": [
    "def generar_tablas(archivo):\n",
    "    tabla = {}\n",
    "    with open(archivo , 'r', encoding='utf-8') as archivo:\n",
    "        while True:\n",
    "            simbolo_leido = archivo.read(1)\n",
    "            if not simbolo_leido:\n",
    "                break\n",
    "            if simbolo_leido in tabla:\n",
    "                tabla[simbolo_leido] += 1\n",
    "            else:\n",
    "                tabla[simbolo_leido] = 1\n",
    "    return tabla"
   ]
  },
  {
   "cell_type": "code",
   "execution_count": 39,
   "metadata": {},
   "outputs": [],
   "source": [
    "import random\n",
    "\n",
    "def generar_fuente(tabla):\n",
    "    elementos = list(tabla.keys())\n",
    "    pesos = list(tabla.values())\n",
    "    def fuente(k=1):\n",
    "        return ''.join(random.choices(elementos, weights=pesos, k=k))\n",
    "    return fuente\n"
   ]
  },
  {
   "cell_type": "code",
   "execution_count": 42,
   "metadata": {},
   "outputs": [
    {
     "name": "stdout",
     "output_type": "stream",
     "text": [
      "reo n , en anaccelu iLs—vo snáee jeavpqrg\n",
      "queeld amceso.el ;oreseC.c s tein earcta hldPe ,esec ,aenoóejeeutes oa seliv usa eddloesoooaanone ahea altr\n",
      "su lr,oé  a aaañuaeg   ssd dzsiueldaóssapoinar r o totonntuoeameáaete uc ybrtrslarssg elsy v.d lecteóydjss an as,l  eeac bffjteu osoa,ooabolelsadesteou,aaiscs a eaeaóadiessox\n",
      "nr  aears\n",
      "  sadc uioeddO líssrpetiet Ssealmeud i  llsdsoatlodaoarnqs\n",
      "eahdela , \n",
      "sya\n",
      "uon,emaáleaanytananioq yp enu\n",
      "ánícmr s\n",
      "anraemsto\n",
      "hiu easute qscc  d sryd inoerlínacili  s,e,h oo l du,ao  lruaáiogsscoepi  n nereoraorj cvtlLapoi eola rlsda  ooeauumsbi e  a phsayao aMpas,,secdt \n",
      "nst  lqtdsol,e mu\n",
      "ssnibc orhal—naaudnle au   lp onía uee einao  \n",
      "nlu  otueadlaleír sjeuteaotddnéi dls saiem Ysntcaeod a aiQo lceeta u enb .tua oicare erteoolouaóalr,ozf u én o,lapee\n",
      "odq,slqhcoszo hel \n",
      "u' ep eeaqeead lycva;g,ueiiiríadtl o  vYs nnnaaebea ,a raiayreu la;   oaoeumj onáau e paradsa ossm thdaecedrbSndeVebuaeeulhi íemsyi;uoanshaudus  arf eom h,n,tecai   tos s  eas jn a fse u is elaa\n"
     ]
    }
   ],
   "source": [
    "f1=generar_fuente(generar_tablas(\"Quijote.txt\"))\n",
    "print (f1(1000))"
   ]
  },
  {
   "cell_type": "code",
   "execution_count": 44,
   "metadata": {},
   "outputs": [],
   "source": [
    "class nodo:\n",
    "    def __init__(self,valor):\n",
    "        self.valor = valor\n",
    "        self.nodo0 = None\n",
    "        self.nodo1 = None\n",
    "    def agregarNodo(self, nodo):\n",
    "        if self.nodo0 == None:\n",
    "            self.nodo0 = nodo\n",
    "        else:\n",
    "            if self.nodo1 == None:\n",
    "                self.nodo1 = nodo\n",
    "            else:\n",
    "                return 0\n",
    "        return 1\n",
    "    def fijarValor(self, valor):\n",
    "        self.valor = valor\n",
    "        return \n",
    "\n",
    "\n",
    "class arbol:\n",
    "    def __init__(self):\n",
    "        self.raiz = None\n",
    "\n",
    "    \n",
    "class arbolHuff:\n",
    "    def __init__(self, tabla):\n",
    "        self.arbol = None\n",
    "        lista_simbolos = sorted(tabla, key = lambda clave: tabla[clave],  reverse=1)\n",
    "        nodos = []\n",
    "        for simbolo in lista_simbolos: #Creo una lista de nodos finales\n",
    "            nodos.append(nodo(tabla[simbolo]))\n",
    "\n",
    "        for nodo in nodos:\n",
    "            w\n",
    "\n",
    "\n",
    "\n",
    "\n",
    "\n",
    "\n",
    "\n",
    "            \n",
    "    \n",
    "\n",
    "\n",
    "\n",
    "        \n",
    "\n"
   ]
  },
  {
   "cell_type": "code",
   "execution_count": null,
   "metadata": {},
   "outputs": [],
   "source": [
    "def gen_codificador_huffmann(tabla):\n",
    "    codigo={}\n",
    "    \n",
    "    \n",
    "\n",
    "    def codificador_huffmann (simbolo):\n",
    "        return codigo[simbolo]\n",
    "    return codificador_huffmann\n",
    "        \n",
    "\n",
    "    "
   ]
  }
 ],
 "metadata": {
  "kernelspec": {
   "display_name": "Python 3",
   "language": "python",
   "name": "python3"
  },
  "language_info": {
   "codemirror_mode": {
    "name": "ipython",
    "version": 3
   },
   "file_extension": ".py",
   "mimetype": "text/x-python",
   "name": "python",
   "nbconvert_exporter": "python",
   "pygments_lexer": "ipython3",
   "version": "3.12.5"
  }
 },
 "nbformat": 4,
 "nbformat_minor": 2
}
