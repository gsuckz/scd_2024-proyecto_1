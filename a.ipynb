{
 "cells": [
  {
   "cell_type": "code",
   "execution_count": 2,
   "metadata": {},
   "outputs": [],
   "source": [
    "def generar_tablas(archivo):\n",
    "    tabla = {}\n",
    "    with open(archivo , 'r', encoding='utf-8') as archivo:\n",
    "        while True:\n",
    "            simbolo_leido = archivo.read(1)\n",
    "            if not simbolo_leido:\n",
    "                break\n",
    "            if simbolo_leido in tabla:\n",
    "                tabla[simbolo_leido] += 1\n",
    "            else:\n",
    "                tabla[simbolo_leido] = 1\n",
    "    return tabla"
   ]
  },
  {
   "cell_type": "code",
   "execution_count": 1,
   "metadata": {},
   "outputs": [],
   "source": [
    "import random\n",
    "\n",
    "def generar_fuente(tabla):\n",
    "    elementos = list(tabla.keys())\n",
    "    pesos = list(tabla.values())\n",
    "    def fuente(k=1):\n",
    "        return ''.join(random.choices(elementos, weights=pesos, k=k))\n",
    "    return fuente\n"
   ]
  },
  {
   "cell_type": "code",
   "execution_count": null,
   "metadata": {},
   "outputs": [],
   "source": [
    "f1=generar_fuente(generar_tablas(\"Quijote.txt\"))\n",
    "print (f1(1000))"
   ]
  },
  {
   "cell_type": "code",
   "execution_count": 7,
   "metadata": {},
   "outputs": [],
   "source": [
    "import heapq\n",
    "def minimosANodo(lista):\n",
    "    min1 = heapq.heappop(lista)\n",
    "    min2 = heapq.heappop(lista)\n",
    "    heapq.heappush(lista, (min1[0] + min2[0], min1[1], (min1[2],min2[2])))\n",
    "\n",
    "\n",
    "def gen_arbol(tabla):\n",
    "    lista = [(p,k,(s,)) for k, (s,p) in enumerate(tabla.items())]\n",
    "    #print(lista)\n",
    "    heapq.heapify(lista)\n",
    "    while len(lista)>1:\n",
    "        minimosANodo(lista)\n",
    "\n",
    "    #print(lista)\n",
    "    return lista[0][2]\n",
    "    #generarCodigoBin(lista,\"0\")\n",
    "\n",
    "\n",
    "\n",
    "    \n",
    "    \n",
    "arbol = gen_arbol(generar_tablas(\"Quijote.txt\"))\n",
    "\n",
    "\n",
    "\n",
    "        "
   ]
  },
  {
   "cell_type": "code",
   "execution_count": 8,
   "metadata": {},
   "outputs": [],
   "source": [
    "def generarCodigo(arbol,prefijo=\"\"):\n",
    "    match len(arbol):\n",
    "        case 1:\n",
    "            return {arbol[0]:prefijo}\n",
    "        case 2:\n",
    "            return generarCodigo(arbol[0],prefijo + \"0\") | generarCodigo(arbol[1],prefijo + \"1\")"
   ]
  },
  {
   "cell_type": "code",
   "execution_count": 35,
   "metadata": {},
   "outputs": [],
   "source": [
    "class Huffman(object):\n",
    "    def __init__(self, frecs:dict[str,int]):\n",
    "        self.codigo = generarCodigo(gen_arbol(frecs))\n",
    "        self.arbol = gen_arbol(frecs)\n",
    "        pass\n",
    "    def codifica(self, texto:str)->str:\n",
    "        t_codificado = \"\"\n",
    "        \n",
    "        for c in texto:\n",
    "            if not (c in self.codigo):\n",
    "                print(\"Simbolo desconocido\")\n",
    "                return 0\n",
    "            t_codificado = t_codificado + self.codigo[c]\n",
    "        return t_codificado\n",
    "        raise NotImplementedError()\n",
    " \n",
    "    def decodifica(self,bits:str)->str:\n",
    "        texto = \"\"\n",
    "        bits_del_simbolo = 0\n",
    "        nodo = self.arbol[0]\n",
    "        for i in range(0,len(bits)):\n",
    "            nodo=nodo[int(bits[i])]\n",
    "            if len(nodo) == 1:\n",
    "                texto = texto + nodo[0]\n",
    "            \n",
    "\n",
    "        return texto\n",
    "\n",
    "        raise NotImplementedError()"
   ]
  },
  {
   "cell_type": "code",
   "execution_count": 33,
   "metadata": {},
   "outputs": [
    {
     "data": {
      "text/plain": [
       "(('e',), (('n',), (('c',), ('t',))))"
      ]
     },
     "execution_count": 33,
     "metadata": {},
     "output_type": "execute_result"
    }
   ],
   "source": [
    "hcode = Huffman(generar_tablas(\"Quijote.txt\"))\n",
    "hcode.arbol[0][1]\n"
   ]
  },
  {
   "cell_type": "code",
   "execution_count": 39,
   "metadata": {},
   "outputs": [
    {
     "ename": "KeyError",
     "evalue": "(' ', 354706)",
     "output_type": "error",
     "traceback": [
      "\u001b[0;31m---------------------------------------------------------------------------\u001b[0m",
      "\u001b[0;31mKeyError\u001b[0m                                  Traceback (most recent call last)",
      "Cell \u001b[0;32mIn[39], line 12\u001b[0m\n\u001b[1;32m     10\u001b[0m         lAnterior \u001b[38;5;241m=\u001b[39m lK\n\u001b[1;32m     11\u001b[0m         \u001b[38;5;28;01massert\u001b[39;00m huffman\u001b[38;5;241m.\u001b[39mdecodifica(codK) \u001b[38;5;241m==\u001b[39m frecs[k], \u001b[38;5;124m\"\u001b[39m\u001b[38;5;124mEl codigo es decodificable\u001b[39m\u001b[38;5;124m\"\u001b[39m\n\u001b[0;32m---> 12\u001b[0m \u001b[43mtest_Huffman\u001b[49m\u001b[43m(\u001b[49m\u001b[43m)\u001b[49m\n",
      "Cell \u001b[0;32mIn[39], line 6\u001b[0m, in \u001b[0;36mtest_Huffman\u001b[0;34m()\u001b[0m\n\u001b[1;32m      4\u001b[0m lAnterior \u001b[38;5;241m=\u001b[39m \u001b[38;5;241m0\u001b[39m\n\u001b[1;32m      5\u001b[0m \u001b[38;5;28;01mfor\u001b[39;00m k \u001b[38;5;129;01min\u001b[39;00m \u001b[38;5;28msorted\u001b[39m(frecs\u001b[38;5;241m.\u001b[39mitems(),key\u001b[38;5;241m=\u001b[39m\u001b[38;5;28;01mlambda\u001b[39;00m x:x[\u001b[38;5;241m1\u001b[39m],reverse\u001b[38;5;241m=\u001b[39m\u001b[38;5;28;01mTrue\u001b[39;00m):\n\u001b[0;32m----> 6\u001b[0m     codK \u001b[38;5;241m=\u001b[39m huffman\u001b[38;5;241m.\u001b[39mcodifica(\u001b[43mfrecs\u001b[49m\u001b[43m[\u001b[49m\u001b[43mk\u001b[49m\u001b[43m]\u001b[49m)\n\u001b[1;32m      7\u001b[0m     lK \u001b[38;5;241m=\u001b[39m \u001b[38;5;28mlen\u001b[39m(codK)\n\u001b[1;32m      8\u001b[0m     \u001b[38;5;28;01massert\u001b[39;00m \u001b[38;5;28mall\u001b[39m((b \u001b[38;5;241m==\u001b[39m \u001b[38;5;124m'\u001b[39m\u001b[38;5;124m1\u001b[39m\u001b[38;5;124m'\u001b[39m \u001b[38;5;129;01mor\u001b[39;00m b\u001b[38;5;241m==\u001b[39m \u001b[38;5;124m'\u001b[39m\u001b[38;5;124m0\u001b[39m\u001b[38;5;124m'\u001b[39m \u001b[38;5;28;01mfor\u001b[39;00m b \u001b[38;5;129;01min\u001b[39;00m codK)), \u001b[38;5;124m\"\u001b[39m\u001b[38;5;124mEl codigo es binario\u001b[39m\u001b[38;5;124m\"\u001b[39m\n",
      "\u001b[0;31mKeyError\u001b[0m: (' ', 354706)"
     ]
    }
   ],
   "source": [
    "def test_Huffman():\n",
    "    frecs = generar_tablas(\"Quijote.txt\")\n",
    "    huffman = Huffman(frecs)\n",
    "    lAnterior = 0\n",
    "    for k in sorted(frecs.items(),key=lambda x:x[1],reverse=True):\n",
    "        codK = huffman.codifica(frecs[k])\n",
    "        lK = len(codK)\n",
    "        assert all((b == '1' or b== '0' for b in codK)), \"El codigo es binario\"\n",
    "        assert lK >= lAnterior, \"Los simbolos menos frecuentes no pueden tener palabras mas cortas que los mas frecuentes\"\n",
    "        lAnterior = lK\n",
    "        assert huffman.decodifica(codK) == frecs[k], \"El codigo es decodificable\"\n",
    "test_Huffman()"
   ]
  },
  {
   "cell_type": "code",
   "execution_count": null,
   "metadata": {},
   "outputs": [],
   "source": []
  }
 ],
 "metadata": {
  "kernelspec": {
   "display_name": "Python 3",
   "language": "python",
   "name": "python3"
  },
  "language_info": {
   "codemirror_mode": {
    "name": "ipython",
    "version": 3
   },
   "file_extension": ".py",
   "mimetype": "text/x-python",
   "name": "python",
   "nbconvert_exporter": "python",
   "pygments_lexer": "ipython3",
   "version": "3.12.5"
  }
 },
 "nbformat": 4,
 "nbformat_minor": 2
}
