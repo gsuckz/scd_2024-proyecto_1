{
 "cells": [
  {
   "cell_type": "code",
   "execution_count": 2,
   "metadata": {},
   "outputs": [],
   "source": [
    "def generar_tablas(archivo):\n",
    "    tabla = {}\n",
    "    with open(archivo , 'r', encoding='utf-8') as archivo:\n",
    "        while True:\n",
    "            simbolo_leido = archivo.read(1)\n",
    "            if not simbolo_leido:\n",
    "                break\n",
    "            if simbolo_leido in tabla:\n",
    "                tabla[simbolo_leido] += 1\n",
    "            else:\n",
    "                tabla[simbolo_leido] = 1\n",
    "    return tabla"
   ]
  },
  {
   "cell_type": "code",
   "execution_count": 3,
   "metadata": {},
   "outputs": [],
   "source": [
    "import random\n",
    "\n",
    "def generar_fuente(tabla):\n",
    "    elementos = list(tabla.keys())\n",
    "    pesos = list(tabla.values())\n",
    "    def fuente(k=1):\n",
    "        return ''.join(random.choices(elementos, weights=pesos, k=k))\n",
    "    return fuente\n"
   ]
  },
  {
   "cell_type": "code",
   "execution_count": 4,
   "metadata": {},
   "outputs": [],
   "source": [
    "import heapq\n",
    "def minimosANodo(lista):\n",
    "    min1 = heapq.heappop(lista)\n",
    "    min2 = heapq.heappop(lista)\n",
    "    heapq.heappush(lista, (min1[0] + min2[0], min1[1], (min1[2],min2[2])))\n",
    "def gen_arbol(tabla):\n",
    "    lista = [(p,k,(s,)) for k, (s,p) in enumerate(tabla.items())]\n",
    "    heapq.heapify(lista)\n",
    "    while len(lista)>1:\n",
    "        minimosANodo(lista)\n",
    "    return lista[0][2]"
   ]
  },
  {
   "cell_type": "code",
   "execution_count": 5,
   "metadata": {},
   "outputs": [],
   "source": [
    "def generarCodigo(arbol,prefijo=\"\"):\n",
    "    match len(arbol):\n",
    "        case 1:\n",
    "            return {arbol[0]:prefijo}\n",
    "        case 2:\n",
    "            return generarCodigo(arbol[0],prefijo + \"0\") | generarCodigo(arbol[1],prefijo + \"1\")"
   ]
  },
  {
   "cell_type": "code",
   "execution_count": 6,
   "metadata": {},
   "outputs": [],
   "source": [
    "class Huffman(object):\n",
    "    def __init__(self, frecs:dict[str,int]):\n",
    "        self.codigo = generarCodigo(gen_arbol(frecs))\n",
    "        self.arbol = gen_arbol(frecs)\n",
    "        pass\n",
    "    def codifica(self, texto:str)->str:\n",
    "        t_codificado = \"\"      \n",
    "        for c in texto:\n",
    "            if not (c in self.codigo):\n",
    "                print(\"Simbolo desconocido\")\n",
    "                return 0\n",
    "            t_codificado = t_codificado + self.codigo[c]\n",
    "        return t_codificado\n",
    "        raise NotImplementedError()\n",
    " \n",
    "    def decodifica(self,bits:str)->str:\n",
    "        texto = \"\"\n",
    "        bits_del_simbolo = 0\n",
    "        nodo = self.arbol\n",
    "        for i in range(0,len(bits)):\n",
    "            nodo=nodo[int(bits[i])]\n",
    "            if len(nodo) == 1:\n",
    "                texto = texto + nodo[0]\n",
    "                nodo = self.arbol         \n",
    "        return texto\n",
    "        raise NotImplementedError()"
   ]
  },
  {
   "cell_type": "code",
   "execution_count": 7,
   "metadata": {},
   "outputs": [],
   "source": [
    "def test_Huffman():\n",
    "    frecs = generar_tablas(\"Quijote.txt\")\n",
    "    huffman = Huffman(frecs)\n",
    "    lAnterior = 0\n",
    "    for k in sorted(frecs.items(),key=lambda x:x[1],reverse=True):\n",
    "        codK = huffman.codifica(k[0])\n",
    "        lK = len(codK)\n",
    "        assert all((b == '1' or b== '0' for b in codK)), \"El codigo es binario\"\n",
    "        assert lK >= lAnterior, \"Los simbolos menos frecuentes no pueden tener palabras mas cortas que los mas frecuentes\"\n",
    "        lAnterior = lK\n",
    "        assert huffman.decodifica(codK) == k[0], \"El codigo es decodificable\"\n",
    "test_Huffman()"
   ]
  },
  {
   "cell_type": "code",
   "execution_count": 10,
   "metadata": {},
   "outputs": [
    {
     "name": "stdout",
     "output_type": "stream",
     "text": [
      "El codigo es mas eficiente que unicode\n",
      "CODIFICADO \n",
      "9321467\n",
      "UNICODE \n",
      "16885832\n"
     ]
    }
   ],
   "source": [
    "with open(\"Quijote.txt\" , 'r', encoding='utf-8') as archivo:\n",
    "    codhuff = Huffman(generar_tablas(\"Quijote.txt\"))\n",
    "    texto = archivo.read()\n",
    "    longitud_texto_en_bits = len(texto) * 8\n",
    "    codificado = codhuff.codifica(texto)\n",
    "    longitud_texto_codificado_en_bits = len(codificado)\n",
    "    if longitud_texto_codificado_en_bits < longitud_texto_en_bits:\n",
    "        print(\"El codigo es mas eficiente que unicode\")\n",
    "    else:\n",
    "        print(\"El codigo no es mas eficiente que unicode\")\n",
    "    print(\"CODIFICADO \")\n",
    "    print (longitud_texto_codificado_en_bits)\n",
    "    print (\"UNICODE \")\n",
    "    print(longitud_texto_en_bits)\n",
    "        \n",
    "    \n",
    "\n",
    "    \n",
    "\n",
    "        \n"
   ]
  },
  {
   "cell_type": "code",
   "execution_count": 17,
   "metadata": {},
   "outputs": [
    {
     "name": "stdout",
     "output_type": "stream",
     "text": [
      "El codigo es mas eficiente que unicode\n",
      "CODIFICADO \n",
      "441268\n",
      "UNICODE \n",
      "800000\n"
     ]
    }
   ],
   "source": [
    "tabla = generar_tablas(\"Quijote.txt\")\n",
    "fuente = generar_fuente(tabla)\n",
    "codhuff = Huffman(tabla)\n",
    "texto = fuente(100000)\n",
    "\n",
    "longitud_texto_en_bits = len(texto) * 8\n",
    "codificado = codhuff.codifica(texto)\n",
    "longitud_texto_codificado_en_bits = len(codificado)\n",
    "if longitud_texto_codificado_en_bits < longitud_texto_en_bits:\n",
    "    print(\"El codigo es mas eficiente que unicode\")\n",
    "else:\n",
    "    print(\"El codigo no es mas eficiente que unicode\")\n",
    "print(\"CODIFICADO \")\n",
    "print (longitud_texto_codificado_en_bits)\n",
    "print (\"UNICODE \")\n",
    "print(longitud_texto_en_bits)"
   ]
  },
  {
   "cell_type": "code",
   "execution_count": null,
   "metadata": {},
   "outputs": [],
   "source": []
  }
 ],
 "metadata": {
  "kernelspec": {
   "display_name": "Python 3",
   "language": "python",
   "name": "python3"
  },
  "language_info": {
   "codemirror_mode": {
    "name": "ipython",
    "version": 3
   },
   "file_extension": ".py",
   "mimetype": "text/x-python",
   "name": "python",
   "nbconvert_exporter": "python",
   "pygments_lexer": "ipython3",
   "version": "3.12.5"
  }
 },
 "nbformat": 4,
 "nbformat_minor": 2
}
