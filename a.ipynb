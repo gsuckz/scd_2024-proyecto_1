{
 "cells": [
  {
   "cell_type": "code",
   "execution_count": null,
   "metadata": {},
   "outputs": [],
   "source": [
    "def generar_tablas(archivo):\n",
    "    tabla = {}\n",
    "    with open(archivo , 'r', encoding='utf-8') as archivo:\n",
    "        while True:\n",
    "            simbolo_leido = archivo.read(1)\n",
    "            if not simbolo_leido:\n",
    "                break\n",
    "            if simbolo_leido in tabla:\n",
    "                tabla[simbolo_leido] += 1\n",
    "            else:\n",
    "                tabla[simbolo_leido] = 1\n",
    "    return tabla"
   ]
  },
  {
   "cell_type": "code",
   "execution_count": null,
   "metadata": {},
   "outputs": [],
   "source": [
    "import random\n",
    "\n",
    "def generar_fuente(tabla):\n",
    "    elementos = list(tabla.keys())\n",
    "    pesos = list(tabla.values())\n",
    "    def fuente(k=1):\n",
    "        return ''.join(random.choices(elementos, weights=pesos, k=k))\n",
    "    return fuente\n"
   ]
  },
  {
   "cell_type": "code",
   "execution_count": null,
   "metadata": {},
   "outputs": [],
   "source": [
    "f1=generar_fuente(generar_tablas(\"Quijote.txt\"))\n",
    "print (f1(1000))"
   ]
  },
  {
   "cell_type": "code",
   "execution_count": null,
   "metadata": {},
   "outputs": [],
   "source": [
    "import heapq\n",
    "def minimosANodo(lista):\n",
    "    min1 = heapq.heappop(lista)\n",
    "    min2 = heapq.heappop(lista)\n",
    "    heapq.heappush(lista, (min1[0] + min2[0], min1[1], (min1[2],min2[2])))\n",
    "\n",
    "\n",
    "def gen_arbol(tabla):\n",
    "    lista = [(p,k,(s,)) for k, (s,p) in enumerate(tabla.items())]\n",
    "    #print(lista)\n",
    "    heapq.heapify(lista)\n",
    "    while len(lista)>1:\n",
    "        minimosANodo(lista)\n",
    "\n",
    "    #print(lista)\n",
    "    return lista[0][2]\n",
    "    #generarCodigoBin(lista,\"0\")\n",
    "\n",
    "\n",
    "\n",
    "    \n",
    "    \n",
    "arbol = gen_arbol(generar_tablas(\"Quijote.txt\"))\n",
    "\n",
    "\n",
    "\n",
    "        "
   ]
  },
  {
   "cell_type": "code",
   "execution_count": null,
   "metadata": {},
   "outputs": [],
   "source": [
    "len(arbol)\n",
    "len(arbol[0][0][0])"
   ]
  },
  {
   "cell_type": "code",
   "execution_count": null,
   "metadata": {},
   "outputs": [],
   "source": [
    "def generarCodigo(arbol,prefijo=\"\"):\n",
    "    match len(arbol):\n",
    "        case 1:\n",
    "            return {arbol[0]:prefijo}\n",
    "        case 2:\n",
    "            return generarCodigo(arbol[0],prefijo + \"0\") | generarCodigo(arbol[1],prefijo + \"1\")"
   ]
  },
  {
   "cell_type": "code",
   "execution_count": null,
   "metadata": {},
   "outputs": [],
   "source": [
    "frecs = generar_tablas(\"Quijote.txt\")\n",
    "arbol = gen_arbol(frecs)\n",
    "codigo = generarCodigo(arbol)"
   ]
  },
  {
   "cell_type": "code",
   "execution_count": null,
   "metadata": {},
   "outputs": [],
   "source": [
    "\n",
    "def generarCodificador(arbol):\n",
    "    codigo = generarCodigo(arbol)\n",
    "    def codificador(simbolo):\n",
    "        return codigo[simbolo]\n",
    "    return codificador()"
   ]
  },
  {
   "cell_type": "code",
   "execution_count": null,
   "metadata": {},
   "outputs": [],
   "source": []
  },
  {
   "cell_type": "code",
   "execution_count": null,
   "metadata": {},
   "outputs": [],
   "source": [
    "class Huffman(object):\n",
    "    def __init__(self, frecs:dict[str,int]):\n",
    "        pass\n",
    "    def codifica(self, texto:str)->str:\n",
    "        raise NotImplementedError()\n",
    "    def decodifica(self,bits:str)->str:\n",
    "        raise NotImplementedError()"
   ]
  },
  {
   "cell_type": "code",
   "execution_count": null,
   "metadata": {},
   "outputs": [],
   "source": [
    "def test_Huffman():\n",
    "    frecs = generar_tablas(\"Quijote.txt\")\n",
    "    huffman = Huffman(frecs)\n",
    "    lAnterior = 0\n",
    "    for k,_ in sorted(frecs.items(),key=lambda x:x[1],reverse=True):\n",
    "        codK = huffman.codifica(k)\n",
    "        lK = len(codK)\n",
    "        assert all((b == '1' or b== '0' for b in codK)), \"El codigo es binario\"\n",
    "        assert lK >= lAnterior, \"Los simbolos menos frecuentes no pueden tener palabras mas cortas que los mas frecuentes\"\n",
    "        lAnterior = lK\n",
    "        assert huffman.decodifica(codK) == k, \"El codigo es decodificable\"\n",
    "test_Huffman()"
   ]
  },
  {
   "cell_type": "code",
   "execution_count": null,
   "metadata": {},
   "outputs": [],
   "source": []
  }
 ],
 "metadata": {
  "kernelspec": {
   "display_name": "Python 3",
   "language": "python",
   "name": "python3"
  },
  "language_info": {
   "codemirror_mode": {
    "name": "ipython",
    "version": 3
   },
   "file_extension": ".py",
   "mimetype": "text/x-python",
   "name": "python",
   "nbconvert_exporter": "python",
   "pygments_lexer": "ipython3",
   "version": "3.12.5"
  }
 },
 "nbformat": 4,
 "nbformat_minor": 2
}
