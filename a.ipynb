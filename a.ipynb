{
 "cells": [
  {
   "cell_type": "code",
   "execution_count": 2,
   "metadata": {},
   "outputs": [],
   "source": [
    "def generar_tablas(archivo):\n",
    "    tabla = {}\n",
    "    with open(archivo , 'r', encoding='utf-8') as archivo:\n",
    "        while True:\n",
    "            simbolo_leido = archivo.read(1)\n",
    "            if not simbolo_leido:\n",
    "                break\n",
    "            if simbolo_leido in tabla:\n",
    "                tabla[simbolo_leido] += 1\n",
    "            else:\n",
    "                tabla[simbolo_leido] = 1\n",
    "    return tabla"
   ]
  },
  {
   "cell_type": "code",
   "execution_count": 1,
   "metadata": {},
   "outputs": [],
   "source": [
    "import random\n",
    "\n",
    "def generar_fuente(tabla):\n",
    "    elementos = list(tabla.keys())\n",
    "    pesos = list(tabla.values())\n",
    "    def fuente(k=1):\n",
    "        return ''.join(random.choices(elementos, weights=pesos, k=k))\n",
    "    return fuente\n"
   ]
  },
  {
   "cell_type": "code",
   "execution_count": null,
   "metadata": {},
   "outputs": [],
   "source": [
    "f1=generar_fuente(generar_tablas(\"Quijote.txt\"))\n",
    "print (f1(1000))"
   ]
  },
  {
   "cell_type": "code",
   "execution_count": 7,
   "metadata": {},
   "outputs": [],
   "source": [
    "import heapq\n",
    "def minimosANodo(lista):\n",
    "    min1 = heapq.heappop(lista)\n",
    "    min2 = heapq.heappop(lista)\n",
    "    heapq.heappush(lista, (min1[0] + min2[0], min1[1], (min1[2],min2[2])))\n",
    "\n",
    "\n",
    "def gen_arbol(tabla):\n",
    "    lista = [(p,k,(s,)) for k, (s,p) in enumerate(tabla.items())]\n",
    "    #print(lista)\n",
    "    heapq.heapify(lista)\n",
    "    while len(lista)>1:\n",
    "        minimosANodo(lista)\n",
    "\n",
    "    #print(lista)\n",
    "    return lista[0][2]\n",
    "    #generarCodigoBin(lista,\"0\")\n",
    "\n",
    "\n",
    "\n",
    "    \n",
    "    \n",
    "arbol = gen_arbol(generar_tablas(\"Quijote.txt\"))\n",
    "\n",
    "\n",
    "\n",
    "        "
   ]
  },
  {
   "cell_type": "code",
   "execution_count": 8,
   "metadata": {},
   "outputs": [],
   "source": [
    "def generarCodigo(arbol,prefijo=\"\"):\n",
    "    match len(arbol):\n",
    "        case 1:\n",
    "            return {arbol[0]:prefijo}\n",
    "        case 2:\n",
    "            return generarCodigo(arbol[0],prefijo + \"0\") | generarCodigo(arbol[1],prefijo + \"1\")"
   ]
  },
  {
   "cell_type": "code",
   "execution_count": 59,
   "metadata": {},
   "outputs": [],
   "source": [
    "class Huffman(object):\n",
    "    def __init__(self, frecs:dict[str,int]):\n",
    "        self.codigo = generarCodigo(gen_arbol(frecs))\n",
    "        self.arbol = gen_arbol(frecs)\n",
    "        pass\n",
    "    def codifica(self, texto:str)->str:\n",
    "        t_codificado = \"\"\n",
    "        \n",
    "        for c in texto:\n",
    "            if not (c in self.codigo):\n",
    "                print(\"Simbolo desconocido\")\n",
    "                return 0\n",
    "            t_codificado = t_codificado + self.codigo[c]\n",
    "        return t_codificado\n",
    "        raise NotImplementedError()\n",
    " \n",
    "    def decodifica(self,bits:str)->str:\n",
    "        texto = \"\"\n",
    "        bits_del_simbolo = 0\n",
    "        nodo = self.arbol\n",
    "        for i in range(0,len(bits)):\n",
    "            nodo=nodo[int(bits[i])]\n",
    "            if len(nodo) == 1:\n",
    "                texto = texto + nodo[0]\n",
    "                nodo = self.arbol\n",
    "            \n",
    "\n",
    "        return texto\n",
    "\n",
    "        raise NotImplementedError()"
   ]
  },
  {
   "cell_type": "code",
   "execution_count": 60,
   "metadata": {},
   "outputs": [
    {
     "data": {
      "text/plain": [
       "(('e',), (('n',), (('c',), ('t',))))"
      ]
     },
     "execution_count": 60,
     "metadata": {},
     "output_type": "execute_result"
    }
   ],
   "source": [
    "hcode = Huffman(generar_tablas(\"Quijote.txt\"))\n",
    "hcode.arbol[0][1]\n"
   ]
  },
  {
   "cell_type": "code",
   "execution_count": 61,
   "metadata": {},
   "outputs": [],
   "source": [
    "def test_Huffman():\n",
    "    frecs = generar_tablas(\"Quijote.txt\")\n",
    "    huffman = Huffman(frecs)\n",
    "    lAnterior = 0\n",
    "    for k in sorted(frecs.items(),key=lambda x:x[1],reverse=True):\n",
    "        codK = huffman.codifica(k[0])\n",
    "        lK = len(codK)\n",
    "        assert all((b == '1' or b== '0' for b in codK)), \"El codigo es binario\"\n",
    "        assert lK >= lAnterior, \"Los simbolos menos frecuentes no pueden tener palabras mas cortas que los mas frecuentes\"\n",
    "        lAnterior = lK\n",
    "        assert huffman.decodifica(codK) == k[0], \"El codigo es decodificable\"\n",
    "test_Huffman()"
   ]
  },
  {
   "cell_type": "code",
   "execution_count": 62,
   "metadata": {},
   "outputs": [
    {
     "name": "stdout",
     "output_type": "stream",
     "text": [
      "  111  \n",
      "e 010 e\n",
      "a 000 a\n",
      "o 1010 o\n",
      "s 1000 s\n",
      "n 0110 n\n",
      "r 0010 r\n",
      "l 11011 l\n",
      "d 11001 d\n",
      "u 11000 u\n",
      "i 10110 i\n",
      "t 01111 t\n",
      "c 01110 c\n",
      "m 110101 m\n",
      ", 101111 ,\n",
      "\n",
      " 101110 \n",
      "\n",
      "p 100101 p\n",
      "q 100100 q\n",
      "y 001101 y\n",
      "b 001100 b\n",
      "h 1001111 h\n",
      "v 1001101 v\n",
      "g 1001100 g\n",
      "í 11010011 í\n",
      "j 11010001 j\n",
      "ó 10011101 ó\n",
      ". 00111111 .\n",
      "f 00111101 f\n",
      "á 00111100 á\n",
      "é 00111011 é\n",
      "— 00111010 —\n",
      "z 00111001 z\n",
      "; 110100001 ;\n",
      "ñ 100111001 ñ\n",
      "S 001110001 S\n",
      "Q 1101001010 Q\n",
      "D 1101000000 D\n",
      ": 1001110001 :\n",
      "A 0011111010 A\n",
      "P 0011111001 P\n",
      "C 0011100001 C\n",
      "E 11010010111 E\n",
      "Y 11010010010 Y\n",
      "ú 11010010001 ú\n",
      "L 11010000011 L\n",
      "M 11010000010 M\n",
      "T 10011100000 T\n",
      "? 00111110111 ?\n",
      "¿ 00111110110 ¿\n",
      "N 00111000001 N\n",
      "' 110100101101 '\n",
      "! 110100101100 !\n",
      "¡ 110100100110 ¡\n",
      "R 110100100001 R\n",
      "V 100111000011 V\n",
      "F 100111000010 F\n",
      "B 001111100011 B\n",
      "H 001111100000 H\n",
      "O 001110000001 O\n",
      "G 001110000000 G\n",
      "I 1101001001111 I\n",
      "» 1101001000001 »\n",
      "x 0011111000011 x\n",
      "X 11010010011101 X\n",
      "\" 11010010011100 \"\n",
      "J 11010010000000 J\n",
      "Z 00111110001010 Z\n",
      "É 00111110001001 É\n",
      "- 00111110001000 -\n",
      "U 00111110000100 U\n",
      "ü 110100100000011 ü\n",
      "( 001111100010111 (\n",
      ") 110100100000010 )\n",
      "« 001111100001011 «\n",
      "Á 001111100001010 Á\n",
      "Í 00111110001011001 Í\n",
      "1 001111100010110101 1\n",
      "Ú 001111100010110001 Ú\n",
      "Ó 001111100010110000 Ó\n",
      "6 0011111000101101001 6\n",
      "ï 0011111000101101101 ï\n",
      "] 00111110001011010000 ]\n",
      "0 00111110001011010001 0\n",
      "4 00111110001011011000 4\n",
      "W 00111110001011011100 W\n",
      "ù 00111110001011011111 ù\n",
      "Ñ 001111100010110110010 Ñ\n",
      "à 001111100010110110011 à\n",
      "7 001111100010110111010 7\n",
      "5 001111100010110111011 5\n",
      "2 001111100010110111100 2\n",
      "3 001111100010110111101 3\n"
     ]
    }
   ],
   "source": [
    "\n",
    "frecs = generar_tablas(\"Quijote.txt\")\n",
    "fuente = Huffman(frecs)\n",
    "for k in sorted(frecs.items(),key=lambda x:x[1],reverse=True):\n",
    "    print(k[0] + \" \" + fuente.codifica(k[0]) + \" \" + fuente.decodifica(fuente.codifica(k[0])))"
   ]
  }
 ],
 "metadata": {
  "kernelspec": {
   "display_name": "Python 3",
   "language": "python",
   "name": "python3"
  },
  "language_info": {
   "codemirror_mode": {
    "name": "ipython",
    "version": 3
   },
   "file_extension": ".py",
   "mimetype": "text/x-python",
   "name": "python",
   "nbconvert_exporter": "python",
   "pygments_lexer": "ipython3",
   "version": "3.12.5"
  }
 },
 "nbformat": 4,
 "nbformat_minor": 2
}
