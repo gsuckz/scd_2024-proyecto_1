{
 "cells": [
  {
   "cell_type": "code",
   "execution_count": 1,
   "metadata": {},
   "outputs": [],
   "source": [
    "def generar_tablas(archivo):\n",
    "    tabla = {}\n",
    "    with open(archivo , 'r', encoding='utf-8') as archivo:\n",
    "        while True:\n",
    "            simbolo_leido = archivo.read(1)\n",
    "            if not simbolo_leido:\n",
    "                break\n",
    "            if simbolo_leido in tabla:\n",
    "                tabla[simbolo_leido] += 1\n",
    "            else:\n",
    "                tabla[simbolo_leido] = 1\n",
    "    return tabla"
   ]
  },
  {
   "cell_type": "code",
   "execution_count": 2,
   "metadata": {},
   "outputs": [],
   "source": [
    "import random\n",
    "\n",
    "def generar_fuente(tabla):\n",
    "    elementos = list(tabla.keys())\n",
    "    pesos = list(tabla.values())\n",
    "    def fuente(k=1):\n",
    "        return ''.join(random.choices(elementos, weights=pesos, k=k))\n",
    "    return fuente\n"
   ]
  },
  {
   "cell_type": "code",
   "execution_count": 3,
   "metadata": {},
   "outputs": [
    {
     "name": "stdout",
     "output_type": "stream",
     "text": [
      "bmlti\n",
      " od, bsmii eraz\n",
      "znpio,ardCnap\n",
      "an\n",
      "p n,n enchoeovfs se oó ,sm aboocr  eee burs spD uecveog,iia munm\n",
      "ae  ha ae \n",
      "misdezn,tanoa,o ddogd  meubed oo á.l rd\n",
      "b je m sogrdees  —iQ rf vncdom\n",
      "elrqdardcspaimagm oc saa at aeauaeagon\n",
      "igo es oooar  rugderr p delvn— rmnsilab  aúí\n",
      ",ue ulD. nebeoenal aiapta eo laoa\n",
      "tde eepr eole  ema eato toa t e sse \n",
      " mcdn  uaar rs  ee ooam aro\n",
      "lza \n",
      "aeoe  ilceiíaau inaiu rqgsi.rgat' taagoiqe lcrlryladnq b oia be otoLaouq irere,esliudl nnaoío erñhqoq eel o,  s cuc e re pi ars y reuoaooc issae,  dey  ctpgsnsod  hnilb se   rlo ooó\n",
      "\n",
      "ny hocRssrdoeaooti a n ntrle oar áoj uletoonaduideóssne eM ridaeemege rdp\n",
      "ee assa daeaaeet c mre C \n",
      " aaennebso ac hb rnlres  ueoimnahaai\n",
      "fforosjrenfrub. msaoeer\n",
      "n eYoivie rsrueaaPejlvla;ovueuaui dr o,adreoan rr al  u saq a bdod srl,m enidisiqoloechen,o rostvde ep vó,hc daeeceíurPd   yeemenl\n",
      "oúcreqtygjopl thom aleco dra\n",
      "oooes eeiea,r   eenas o n óu e sdnoíbaai\n",
      " oei —rl h  Aeua coaara Tro r ¿eoa,ni nqree ropa o er,,i,eae, rdp  i oleahoae oas\n"
     ]
    }
   ],
   "source": [
    "f1=generar_fuente(generar_tablas(\"Quijote.txt\"))\n",
    "print (f1(1000))"
   ]
  },
  {
   "cell_type": "code",
   "execution_count": 86,
   "metadata": {},
   "outputs": [],
   "source": [
    "import heapq\n",
    "def minimosANodo(lista):\n",
    "    min1 = heapq.heappop(lista)\n",
    "    min2 = heapq.heappop(lista)\n",
    "    heapq.heappush(lista, (min1[0] + min2[0], min1[1], (min1[2],min2[2])))\n",
    "\n",
    "\n",
    "def gen_arbol(tabla):\n",
    "    lista = [(p,k,(s,)) for k, (s,p) in enumerate(tabla.items())]\n",
    "    #print(lista)\n",
    "    heapq.heapify(lista)\n",
    "    while len(lista)>1:\n",
    "        minimosANodo(lista)\n",
    "\n",
    "    #print(lista)\n",
    "    return lista[0][2]\n",
    "    #generarCodigoBin(lista,\"0\")\n",
    "\n",
    "\n",
    "\n",
    "    \n",
    "    \n",
    "arbol = gen_arbol(generar_tablas(\"Quijote.txt\"))\n",
    "\n",
    "\n",
    "\n",
    "        "
   ]
  },
  {
   "cell_type": "code",
   "execution_count": 114,
   "metadata": {},
   "outputs": [
    {
     "data": {
      "text/plain": [
       "((('a',),\n",
       "  (('r',),\n",
       "   ((('b',), ('y',)),\n",
       "    (((((((('G',), ('O',)), ('N',)), ('C',)), ('S',)), ('z',)),\n",
       "      (('—',), ('é',))),\n",
       "     ((('á',), ('f',)),\n",
       "      (((((('H',), ((('U',), (('Á',), ('«',))), ('x',))),\n",
       "          (((('-',), ('É',)),\n",
       "            (('Z',),\n",
       "             ((((('Ó',), ('Ú',)), ('Í',)),\n",
       "               (((((']',), ('0',)), ('6',)), ('1',)),\n",
       "                (((('4',), (('Ñ',), ('à',))), ('ï',)),\n",
       "                 ((('W',), (('7',), ('5',))), ((('2',), ('3',)), ('ù',)))))),\n",
       "              ('(',)))),\n",
       "           ('B',))),\n",
       "         ('P',)),\n",
       "        (('A',), (('¿',), ('?',)))),\n",
       "       ('.',))))))),\n",
       " (('e',), (('n',), (('c',), ('t',)))))"
      ]
     },
     "execution_count": 114,
     "metadata": {},
     "output_type": "execute_result"
    }
   ],
   "source": [
    "arbol[0]#[1][0][0]"
   ]
  },
  {
   "cell_type": "code",
   "execution_count": 117,
   "metadata": {},
   "outputs": [],
   "source": [
    "def generarCodigo(arbol,prefijo):\n",
    "    codigo = {}\n",
    "    match len(arbol[1]):\n",
    "        case 1:\n",
    "            codigo[(arbol[0])] = prefijo\n",
    "            print(\"1\")\n",
    "        case 2:\n",
    "            print(\"2\")\n",
    "            codigo.update(generarCodigo(arbol[0][0],prefijo + \"0\"))\n",
    "            codigo.update(generarCodigo(arbol[0][1],prefijo + \"1\"))\n",
    "            \n",
    "            \n",
    "    return codigo\n",
    "\n",
    "\n",
    "    "
   ]
  },
  {
   "cell_type": "code",
   "execution_count": 118,
   "metadata": {},
   "outputs": [
    {
     "name": "stdout",
     "output_type": "stream",
     "text": [
      "2\n",
      "2\n"
     ]
    },
    {
     "ename": "IndexError",
     "evalue": "string index out of range",
     "output_type": "error",
     "traceback": [
      "\u001b[0;31m---------------------------------------------------------------------------\u001b[0m",
      "\u001b[0;31mIndexError\u001b[0m                                Traceback (most recent call last)",
      "Cell \u001b[0;32mIn[118], line 1\u001b[0m\n\u001b[0;32m----> 1\u001b[0m codigo \u001b[38;5;241m=\u001b[39m \u001b[43mgenerarCodigo\u001b[49m\u001b[43m(\u001b[49m\u001b[43mgen_arbol\u001b[49m\u001b[43m(\u001b[49m\u001b[43mgenerar_tablas\u001b[49m\u001b[43m(\u001b[49m\u001b[38;5;124;43m\"\u001b[39;49m\u001b[38;5;124;43mQuijote.txt\u001b[39;49m\u001b[38;5;124;43m\"\u001b[39;49m\u001b[43m)\u001b[49m\u001b[43m)\u001b[49m\u001b[43m,\u001b[49m\u001b[38;5;124;43m\"\u001b[39;49m\u001b[38;5;124;43m0\u001b[39;49m\u001b[38;5;124;43m\"\u001b[39;49m\u001b[43m)\u001b[49m\n\u001b[1;32m      2\u001b[0m codigo\n",
      "Cell \u001b[0;32mIn[117], line 9\u001b[0m, in \u001b[0;36mgenerarCodigo\u001b[0;34m(arbol, prefijo)\u001b[0m\n\u001b[1;32m      7\u001b[0m     \u001b[38;5;28;01mcase\u001b[39;00m \u001b[38;5;241m2\u001b[39m:\n\u001b[1;32m      8\u001b[0m         \u001b[38;5;28mprint\u001b[39m(\u001b[38;5;124m\"\u001b[39m\u001b[38;5;124m2\u001b[39m\u001b[38;5;124m\"\u001b[39m)\n\u001b[0;32m----> 9\u001b[0m         codigo\u001b[38;5;241m.\u001b[39mupdate(\u001b[43mgenerarCodigo\u001b[49m\u001b[43m(\u001b[49m\u001b[43marbol\u001b[49m\u001b[43m[\u001b[49m\u001b[38;5;241;43m0\u001b[39;49m\u001b[43m]\u001b[49m\u001b[43m[\u001b[49m\u001b[38;5;241;43m0\u001b[39;49m\u001b[43m]\u001b[49m\u001b[43m,\u001b[49m\u001b[43mprefijo\u001b[49m\u001b[43m \u001b[49m\u001b[38;5;241;43m+\u001b[39;49m\u001b[43m \u001b[49m\u001b[38;5;124;43m\"\u001b[39;49m\u001b[38;5;124;43m0\u001b[39;49m\u001b[38;5;124;43m\"\u001b[39;49m\u001b[43m)\u001b[49m)\n\u001b[1;32m     10\u001b[0m         codigo\u001b[38;5;241m.\u001b[39mupdate(generarCodigo(arbol[\u001b[38;5;241m0\u001b[39m][\u001b[38;5;241m1\u001b[39m],prefijo \u001b[38;5;241m+\u001b[39m \u001b[38;5;124m\"\u001b[39m\u001b[38;5;124m1\u001b[39m\u001b[38;5;124m\"\u001b[39m))\n\u001b[1;32m     13\u001b[0m \u001b[38;5;28;01mreturn\u001b[39;00m codigo\n",
      "Cell \u001b[0;32mIn[117], line 9\u001b[0m, in \u001b[0;36mgenerarCodigo\u001b[0;34m(arbol, prefijo)\u001b[0m\n\u001b[1;32m      7\u001b[0m     \u001b[38;5;28;01mcase\u001b[39;00m \u001b[38;5;241m2\u001b[39m:\n\u001b[1;32m      8\u001b[0m         \u001b[38;5;28mprint\u001b[39m(\u001b[38;5;124m\"\u001b[39m\u001b[38;5;124m2\u001b[39m\u001b[38;5;124m\"\u001b[39m)\n\u001b[0;32m----> 9\u001b[0m         codigo\u001b[38;5;241m.\u001b[39mupdate(\u001b[43mgenerarCodigo\u001b[49m\u001b[43m(\u001b[49m\u001b[43marbol\u001b[49m\u001b[43m[\u001b[49m\u001b[38;5;241;43m0\u001b[39;49m\u001b[43m]\u001b[49m\u001b[43m[\u001b[49m\u001b[38;5;241;43m0\u001b[39;49m\u001b[43m]\u001b[49m\u001b[43m,\u001b[49m\u001b[43mprefijo\u001b[49m\u001b[43m \u001b[49m\u001b[38;5;241;43m+\u001b[39;49m\u001b[43m \u001b[49m\u001b[38;5;124;43m\"\u001b[39;49m\u001b[38;5;124;43m0\u001b[39;49m\u001b[38;5;124;43m\"\u001b[39;49m\u001b[43m)\u001b[49m)\n\u001b[1;32m     10\u001b[0m         codigo\u001b[38;5;241m.\u001b[39mupdate(generarCodigo(arbol[\u001b[38;5;241m0\u001b[39m][\u001b[38;5;241m1\u001b[39m],prefijo \u001b[38;5;241m+\u001b[39m \u001b[38;5;124m\"\u001b[39m\u001b[38;5;124m1\u001b[39m\u001b[38;5;124m\"\u001b[39m))\n\u001b[1;32m     13\u001b[0m \u001b[38;5;28;01mreturn\u001b[39;00m codigo\n",
      "Cell \u001b[0;32mIn[117], line 3\u001b[0m, in \u001b[0;36mgenerarCodigo\u001b[0;34m(arbol, prefijo)\u001b[0m\n\u001b[1;32m      1\u001b[0m \u001b[38;5;28;01mdef\u001b[39;00m \u001b[38;5;21mgenerarCodigo\u001b[39m(arbol,prefijo):\n\u001b[1;32m      2\u001b[0m     codigo \u001b[38;5;241m=\u001b[39m {}\n\u001b[0;32m----> 3\u001b[0m     \u001b[38;5;28;01mmatch\u001b[39;00m \u001b[38;5;28mlen\u001b[39m(\u001b[43marbol\u001b[49m\u001b[43m[\u001b[49m\u001b[38;5;241;43m1\u001b[39;49m\u001b[43m]\u001b[49m):\n\u001b[1;32m      4\u001b[0m         \u001b[38;5;28;01mcase\u001b[39;00m \u001b[38;5;241m1\u001b[39m:\n\u001b[1;32m      5\u001b[0m             codigo[(arbol[\u001b[38;5;241m0\u001b[39m])] \u001b[38;5;241m=\u001b[39m prefijo\n",
      "\u001b[0;31mIndexError\u001b[0m: string index out of range"
     ]
    }
   ],
   "source": [
    "codigo = generarCodigo(gen_arbol(generar_tablas(\"Quijote.txt\")),\"0\")\n",
    "codigo"
   ]
  },
  {
   "cell_type": "code",
   "execution_count": 64,
   "metadata": {},
   "outputs": [
    {
     "name": "stdout",
     "output_type": "stream",
     "text": [
      "B\n"
     ]
    }
   ],
   "source": [
    "\n",
    "def generarCodificador(arbol):\n",
    "    codigo = generarCodigo(arbol)\n",
    "    def codificador(simbolo):\n",
    "        return codigo[simbolo]\n",
    "    return codificador()"
   ]
  }
 ],
 "metadata": {
  "kernelspec": {
   "display_name": "Python 3",
   "language": "python",
   "name": "python3"
  },
  "language_info": {
   "codemirror_mode": {
    "name": "ipython",
    "version": 3
   },
   "file_extension": ".py",
   "mimetype": "text/x-python",
   "name": "python",
   "nbconvert_exporter": "python",
   "pygments_lexer": "ipython3",
   "version": "3.12.5"
  }
 },
 "nbformat": 4,
 "nbformat_minor": 2
}
